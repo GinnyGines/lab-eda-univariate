{
 "cells": [
  {
   "cell_type": "code",
   "execution_count": 6,
   "id": "37ce5a71",
   "metadata": {},
   "outputs": [
    {
     "name": "stdout",
     "output_type": "stream",
     "text": [
      "             uid        asin  \\\n",
      "0              1  B09B96TG33   \n",
      "1              2  B01HTH3C8S   \n",
      "2              3  B09B8YWXDF   \n",
      "3              4  B09B8T5VGV   \n",
      "4              5  B09WX6QD65   \n",
      "...          ...         ...   \n",
      "2443646  2828589  B0CHSD7P2Q   \n",
      "2443647  2828590  B0B7B8FNBQ   \n",
      "2443648  2828591  B0BD5FL5FB   \n",
      "2443649  2828592  B008OYLL4I   \n",
      "2443650  2828593  B08P3W9B3T   \n",
      "\n",
      "                                                     title  stars  reviews  \\\n",
      "0        Echo Dot (5th generation, 2022 release) | Big ...    4.7    15308   \n",
      "1        Anker Soundcore mini, Super-Portable Bluetooth...    4.7    98099   \n",
      "2        Echo Dot (5th generation, 2022 release) | Big ...    4.7    15308   \n",
      "3        Echo Dot with clock (5th generation, 2022 rele...    4.7     7205   \n",
      "4        Introducing Echo Pop | Full sound compact Wi-F...    4.6     1881   \n",
      "...                                                    ...    ...      ...   \n",
      "2443646  Motorbike Armour, Motorbike Clothing, Cycling ...    0.0        0   \n",
      "2443647  PROFIRST Waterproof Motorcycle 2 Piece Ladies ...    0.0        0   \n",
      "2443648  Men’s Motorcycle Motorbike Biker Trousers Kevl...    0.0        0   \n",
      "2443649  Texpeed Mens Motorcycle Motorbike Biker Trouse...    4.3      404   \n",
      "2443650  RIDEX CJ223 Motorcycle Motorbike Jacket Armour...    4.5       34   \n",
      "\n",
      "         price  isBestSeller  boughtInLastMonth            category  \n",
      "0        21.99         False                  0      Hi-Fi Speakers  \n",
      "1        23.99          True                  0      Hi-Fi Speakers  \n",
      "2        21.99         False                  0      Hi-Fi Speakers  \n",
      "3        31.99         False                  0      Hi-Fi Speakers  \n",
      "4        17.99         False                  0      Hi-Fi Speakers  \n",
      "...        ...           ...                ...                 ...  \n",
      "2443646  22.34         False                  0  Motorbike Clothing  \n",
      "2443647  97.99         False                  0  Motorbike Clothing  \n",
      "2443648  52.99         False                  0  Motorbike Clothing  \n",
      "2443649  79.99         False                  0  Motorbike Clothing  \n",
      "2443650  53.99         False                  0  Motorbike Clothing  \n",
      "\n",
      "[2443651 rows x 9 columns]\n"
     ]
    }
   ],
   "source": [
    "import pandas as pd\n",
    "\n",
    "# Assuming the CSV file is extracted from the ZIP archive\n",
    "# Path to the CSV file\n",
    "csv_file_path = \"C:\\\\Users\\\\gines\\\\Downloads\\\\archive\\\\amz_uk_price_prediction_dataset.csv\"\n",
    "\n",
    "# Read the data from the CSV file\n",
    "df = pd.read_csv(csv_file_path)\n",
    "\n",
    "# Print the DataFrame (optional)\n",
    "print(df)\n"
   ]
  },
  {
   "cell_type": "code",
   "execution_count": 7,
   "id": "f35eab6f",
   "metadata": {},
   "outputs": [
    {
     "name": "stdout",
     "output_type": "stream",
     "text": [
      "Sample predicted prices: [88.84600742 89.46531974 89.45426059 89.0695602  89.46531974]\n"
     ]
    }
   ],
   "source": [
    "import pandas as pd\n",
    "from sklearn.model_selection import train_test_split\n",
    "from sklearn.linear_model import LinearRegression\n",
    "\n",
    "# Assuming the CSV file is extracted from the ZIP archive\n",
    "csv_file_path = \"C:\\\\Users\\\\gines\\\\Downloads\\\\archive\\\\amz_uk_price_prediction_dataset.csv\"\n",
    "\n",
    "# Read the data from the CSV file\n",
    "df = pd.read_csv(csv_file_path)\n",
    "\n",
    "# Preprocess data (assuming 'price' is the target variable and 'reviews' is a feature)\n",
    "X = df[['reviews']]  # Select features (number of reviews)\n",
    "y = df['price']  # Target variable (price)\n",
    "\n",
    "# Split data into training and testing sets\n",
    "X_train, X_test, y_train, y_test = train_test_split(X, y, test_size=0.2, random_state=42)\n",
    "\n",
    "# Create and train the linear regression model\n",
    "model = LinearRegression()\n",
    "model.fit(X_train, y_train)\n",
    "\n",
    "# Make predictions on the test set\n",
    "y_predicted = model.predict(X_test)\n",
    "\n",
    "# Evaluate model performance (optional)\n",
    "# You can use metrics like R-squared to assess how well the model fits the data\n",
    "\n",
    "# Print some sample predictions (optional)\n",
    "print(\"Sample predicted prices:\", y_predicted[:5])\n"
   ]
  },
  {
   "cell_type": "code",
   "execution_count": 8,
   "id": "f4ec6a83",
   "metadata": {},
   "outputs": [
    {
     "name": "stdout",
     "output_type": "stream",
     "text": [
      "Number of products (all reviews): 2443651\n",
      "Number of products (optimal reviews): 519450\n",
      "Number of products (suboptimal reviews): 1924201\n"
     ]
    }
   ],
   "source": [
    "import pandas as pd\n",
    "\n",
    "# Assuming the CSV file is extracted from the ZIP archive\n",
    "csv_file_path = \"C:\\\\Users\\\\gines\\\\Downloads\\\\archive\\\\amz_uk_price_prediction_dataset.csv\"\n",
    "\n",
    "# Read the data from the CSV file\n",
    "df = pd.read_csv(csv_file_path)\n",
    "\n",
    "# Define the threshold for \"optimal\" reviews (adjust as needed)\n",
    "review_threshold = 100\n",
    "\n",
    "# Filter data based on review threshold\n",
    "df_optimal = df[df['reviews'] >= review_threshold]  # Products with many reviews (potentially optimal)\n",
    "df_suboptimal = df[df['reviews'] < review_threshold]  # Products with fewer reviews (potentially suboptimal)\n",
    "\n",
    "# Print some information about the split data (optional)\n",
    "print(\"Number of products (all reviews):\", len(df))\n",
    "print(\"Number of products (optimal reviews):\", len(df_optimal))\n",
    "print(\"Number of products (suboptimal reviews):\", len(df_suboptimal))\n",
    "\n",
    "# You can now explore and analyze df_optimal and df_suboptimal separately\n"
   ]
  },
  {
   "cell_type": "code",
   "execution_count": 9,
   "id": "dab42e26",
   "metadata": {},
   "outputs": [
    {
     "name": "stdout",
     "output_type": "stream",
     "text": [
      "   uid        asin                                              title  stars  \\\n",
      "0    1  B09B96TG33  Echo Dot (5th generation, 2022 release) | Big ...    4.7   \n",
      "1    2  B01HTH3C8S  Anker Soundcore mini, Super-Portable Bluetooth...    4.7   \n",
      "2    3  B09B8YWXDF  Echo Dot (5th generation, 2022 release) | Big ...    4.7   \n",
      "3    4  B09B8T5VGV  Echo Dot with clock (5th generation, 2022 rele...    4.7   \n",
      "4    5  B09WX6QD65  Introducing Echo Pop | Full sound compact Wi-F...    4.6   \n",
      "\n",
      "   reviews  price  isBestSeller  boughtInLastMonth        category  \\\n",
      "0    15308  21.99         False                  0  Hi-Fi Speakers   \n",
      "1    98099  23.99          True                  0  Hi-Fi Speakers   \n",
      "2    15308  21.99         False                  0  Hi-Fi Speakers   \n",
      "3     7205  31.99         False                  0  Hi-Fi Speakers   \n",
      "4     1881  17.99         False                  0  Hi-Fi Speakers   \n",
      "\n",
      "   estimated_units_sold  estimated_revenue  \n",
      "0               15308.0          336622.92  \n",
      "1               98099.0         2353395.01  \n",
      "2               15308.0          336622.92  \n",
      "3                7205.0          230487.95  \n",
      "4                1881.0           33839.19  \n"
     ]
    }
   ],
   "source": [
    "import pandas as pd\n",
    "\n",
    "# Assuming the CSV file is extracted from the ZIP archive\n",
    "csv_file_path = \"C:\\\\Users\\\\gines\\\\Downloads\\\\archive\\\\amz_uk_price_prediction_dataset.csv\"\n",
    "\n",
    "# Read the data from the CSV file\n",
    "df = pd.read_csv(csv_file_path)\n",
    "\n",
    "# Conversion rate (adjust as needed based on your source)\n",
    "conversion_rate = 0.02  # Assuming 1-2% conversion rate (reviews / buyers)\n",
    "\n",
    "# Estimated units sold (assuming reviews reflect sales)\n",
    "df['estimated_units_sold'] = df['reviews'] * conversion_rate * 50\n",
    "\n",
    "# Estimated revenue (price * estimated units sold)\n",
    "df['estimated_revenue'] = df['price'] * df['estimated_units_sold']\n",
    "\n",
    "# Print the DataFrame with new columns (optional)\n",
    "print(df.head())\n"
   ]
  }
 ],
 "metadata": {
  "kernelspec": {
   "display_name": "Python 3 (ipykernel)",
   "language": "python",
   "name": "python3"
  },
  "language_info": {
   "codemirror_mode": {
    "name": "ipython",
    "version": 3
   },
   "file_extension": ".py",
   "mimetype": "text/x-python",
   "name": "python",
   "nbconvert_exporter": "python",
   "pygments_lexer": "ipython3",
   "version": "3.11.7"
  }
 },
 "nbformat": 4,
 "nbformat_minor": 5
}
